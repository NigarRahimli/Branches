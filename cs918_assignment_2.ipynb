{
  "cells": [
    {
      "cell_type": "markdown",
      "metadata": {
        "id": "view-in-github",
        "colab_type": "text"
      },
      "source": [
        "<a href=\"https://colab.research.google.com/github/NigarRahimli/Branches/blob/main/cs918_assignment_2.ipynb\" target=\"_parent\"><img src=\"https://colab.research.google.com/assets/colab-badge.svg\" alt=\"Open In Colab\"/></a>"
      ]
    },
    {
      "cell_type": "code",
      "source": [
        "from google.colab import drive\n",
        "drive.mount('/content/drive')"
      ],
      "metadata": {
        "colab": {
          "base_uri": "https://localhost:8080/"
        },
        "id": "mmQO9Z2GoYTw",
        "outputId": "e5c9f307-574e-455b-f457-6fe370bf2e09"
      },
      "execution_count": null,
      "outputs": [
        {
          "output_type": "stream",
          "name": "stdout",
          "text": [
            "Mounted at /content/drive\n"
          ]
        }
      ]
    },
    {
      "cell_type": "code",
      "source": [
        "import os\n",
        "\n",
        "# Define dataset path (update this if needed)\n",
        "dataset_path = \"/content/semeval-tweets.tar.bz2\"\n",
        "\n",
        "# Create a directory to store extracted files\n",
        "extract_path = \"/content/semeval_tweets\"\n",
        "os.makedirs(extract_path, exist_ok=True)\n",
        "\n",
        "# Extract files\n",
        "!tar -xvjf \"$dataset_path\" -C \"$extract_path\"\n",
        "\n",
        "# List extracted files\n",
        "os.listdir(extract_path)\n"
      ],
      "metadata": {
        "colab": {
          "base_uri": "https://localhost:8080/"
        },
        "id": "f67rG71_ohrm",
        "outputId": "ad272de1-adff-4cf0-8f4d-275887f3c0ab"
      },
      "execution_count": null,
      "outputs": [
        {
          "output_type": "stream",
          "name": "stdout",
          "text": [
            "semeval-tweets/\n",
            "semeval-tweets/twitter-training-data.txt\n",
            "semeval-tweets/twitter-dev-data.txt\n",
            "semeval-tweets/twitter-test3.txt\n",
            "semeval-tweets/twitter-test2.txt\n",
            "semeval-tweets/twitter-test1.txt\n"
          ]
        },
        {
          "output_type": "execute_result",
          "data": {
            "text/plain": [
              "['semeval-tweets']"
            ]
          },
          "metadata": {},
          "execution_count": 6
        }
      ]
    },
    {
      "cell_type": "markdown",
      "source": [
        "##Load Training, Dev, and Test Sets"
      ],
      "metadata": {
        "id": "brDKN0TSkXih"
      }
    },
    {
      "cell_type": "code",
      "source": [
        "import pandas as pd\n",
        "\n",
        "# File paths\n",
        "train_file = \"/content/semeval_tweets/semeval-tweets/twitter-training-data.txt\"\n",
        "dev_file = \"/content/semeval_tweets/semeval-tweets/twitter-dev-data.txt\"\n",
        "\n",
        "# Load datasets\n",
        "df_train = pd.read_csv(train_file, delimiter=\"\\t\", names=[\"tweet_id\", \"sentiment\", \"text\"])\n",
        "df_dev = pd.read_csv(dev_file, delimiter=\"\\t\", names=[\"tweet_id\", \"sentiment\", \"text\"])\n",
        "\n",
        "# Display first few rows\n",
        "df_train.head()\n"
      ],
      "metadata": {
        "colab": {
          "base_uri": "https://localhost:8080/",
          "height": 206
        },
        "id": "E4_j8AEJpu_S",
        "outputId": "1946ec52-6613-4a54-9a99-50307c5abb90"
      },
      "execution_count": null,
      "outputs": [
        {
          "output_type": "execute_result",
          "data": {
            "text/plain": [
              "             tweet_id sentiment  \\\n",
              "0  335104872099066692  positive   \n",
              "1  796528524030124618  positive   \n",
              "2  760964834217238632  positive   \n",
              "3  147713180324524046  negative   \n",
              "4  732302280474120023  negative   \n",
              "\n",
              "                                                text  \n",
              "0  Felt privileged to play Foo Fighters songs on ...  \n",
              "1  @AaqibAfzaal Pakistan may be an Islamic countr...  \n",
              "2  Happy Birthday to the coolest golfer in Bali! ...  \n",
              "3  @SimpplyA TMILLS is going to Tucson! But the 2...  \n",
              "4  Hmmmmm where are the #BlackLivesMatter when ma...  "
            ],
            "text/html": [
              "\n",
              "  <div id=\"df-bad8cf2f-6d37-4192-b482-0fd317955ce7\" class=\"colab-df-container\">\n",
              "    <div>\n",
              "<style scoped>\n",
              "    .dataframe tbody tr th:only-of-type {\n",
              "        vertical-align: middle;\n",
              "    }\n",
              "\n",
              "    .dataframe tbody tr th {\n",
              "        vertical-align: top;\n",
              "    }\n",
              "\n",
              "    .dataframe thead th {\n",
              "        text-align: right;\n",
              "    }\n",
              "</style>\n",
              "<table border=\"1\" class=\"dataframe\">\n",
              "  <thead>\n",
              "    <tr style=\"text-align: right;\">\n",
              "      <th></th>\n",
              "      <th>tweet_id</th>\n",
              "      <th>sentiment</th>\n",
              "      <th>text</th>\n",
              "    </tr>\n",
              "  </thead>\n",
              "  <tbody>\n",
              "    <tr>\n",
              "      <th>0</th>\n",
              "      <td>335104872099066692</td>\n",
              "      <td>positive</td>\n",
              "      <td>Felt privileged to play Foo Fighters songs on ...</td>\n",
              "    </tr>\n",
              "    <tr>\n",
              "      <th>1</th>\n",
              "      <td>796528524030124618</td>\n",
              "      <td>positive</td>\n",
              "      <td>@AaqibAfzaal Pakistan may be an Islamic countr...</td>\n",
              "    </tr>\n",
              "    <tr>\n",
              "      <th>2</th>\n",
              "      <td>760964834217238632</td>\n",
              "      <td>positive</td>\n",
              "      <td>Happy Birthday to the coolest golfer in Bali! ...</td>\n",
              "    </tr>\n",
              "    <tr>\n",
              "      <th>3</th>\n",
              "      <td>147713180324524046</td>\n",
              "      <td>negative</td>\n",
              "      <td>@SimpplyA TMILLS is going to Tucson! But the 2...</td>\n",
              "    </tr>\n",
              "    <tr>\n",
              "      <th>4</th>\n",
              "      <td>732302280474120023</td>\n",
              "      <td>negative</td>\n",
              "      <td>Hmmmmm where are the #BlackLivesMatter when ma...</td>\n",
              "    </tr>\n",
              "  </tbody>\n",
              "</table>\n",
              "</div>\n",
              "    <div class=\"colab-df-buttons\">\n",
              "\n",
              "  <div class=\"colab-df-container\">\n",
              "    <button class=\"colab-df-convert\" onclick=\"convertToInteractive('df-bad8cf2f-6d37-4192-b482-0fd317955ce7')\"\n",
              "            title=\"Convert this dataframe to an interactive table.\"\n",
              "            style=\"display:none;\">\n",
              "\n",
              "  <svg xmlns=\"http://www.w3.org/2000/svg\" height=\"24px\" viewBox=\"0 -960 960 960\">\n",
              "    <path d=\"M120-120v-720h720v720H120Zm60-500h600v-160H180v160Zm220 220h160v-160H400v160Zm0 220h160v-160H400v160ZM180-400h160v-160H180v160Zm440 0h160v-160H620v160ZM180-180h160v-160H180v160Zm440 0h160v-160H620v160Z\"/>\n",
              "  </svg>\n",
              "    </button>\n",
              "\n",
              "  <style>\n",
              "    .colab-df-container {\n",
              "      display:flex;\n",
              "      gap: 12px;\n",
              "    }\n",
              "\n",
              "    .colab-df-convert {\n",
              "      background-color: #E8F0FE;\n",
              "      border: none;\n",
              "      border-radius: 50%;\n",
              "      cursor: pointer;\n",
              "      display: none;\n",
              "      fill: #1967D2;\n",
              "      height: 32px;\n",
              "      padding: 0 0 0 0;\n",
              "      width: 32px;\n",
              "    }\n",
              "\n",
              "    .colab-df-convert:hover {\n",
              "      background-color: #E2EBFA;\n",
              "      box-shadow: 0px 1px 2px rgba(60, 64, 67, 0.3), 0px 1px 3px 1px rgba(60, 64, 67, 0.15);\n",
              "      fill: #174EA6;\n",
              "    }\n",
              "\n",
              "    .colab-df-buttons div {\n",
              "      margin-bottom: 4px;\n",
              "    }\n",
              "\n",
              "    [theme=dark] .colab-df-convert {\n",
              "      background-color: #3B4455;\n",
              "      fill: #D2E3FC;\n",
              "    }\n",
              "\n",
              "    [theme=dark] .colab-df-convert:hover {\n",
              "      background-color: #434B5C;\n",
              "      box-shadow: 0px 1px 3px 1px rgba(0, 0, 0, 0.15);\n",
              "      filter: drop-shadow(0px 1px 2px rgba(0, 0, 0, 0.3));\n",
              "      fill: #FFFFFF;\n",
              "    }\n",
              "  </style>\n",
              "\n",
              "    <script>\n",
              "      const buttonEl =\n",
              "        document.querySelector('#df-bad8cf2f-6d37-4192-b482-0fd317955ce7 button.colab-df-convert');\n",
              "      buttonEl.style.display =\n",
              "        google.colab.kernel.accessAllowed ? 'block' : 'none';\n",
              "\n",
              "      async function convertToInteractive(key) {\n",
              "        const element = document.querySelector('#df-bad8cf2f-6d37-4192-b482-0fd317955ce7');\n",
              "        const dataTable =\n",
              "          await google.colab.kernel.invokeFunction('convertToInteractive',\n",
              "                                                    [key], {});\n",
              "        if (!dataTable) return;\n",
              "\n",
              "        const docLinkHtml = 'Like what you see? Visit the ' +\n",
              "          '<a target=\"_blank\" href=https://colab.research.google.com/notebooks/data_table.ipynb>data table notebook</a>'\n",
              "          + ' to learn more about interactive tables.';\n",
              "        element.innerHTML = '';\n",
              "        dataTable['output_type'] = 'display_data';\n",
              "        await google.colab.output.renderOutput(dataTable, element);\n",
              "        const docLink = document.createElement('div');\n",
              "        docLink.innerHTML = docLinkHtml;\n",
              "        element.appendChild(docLink);\n",
              "      }\n",
              "    </script>\n",
              "  </div>\n",
              "\n",
              "\n",
              "<div id=\"df-acacdb24-43b2-4c51-911f-cf5bf46f22c5\">\n",
              "  <button class=\"colab-df-quickchart\" onclick=\"quickchart('df-acacdb24-43b2-4c51-911f-cf5bf46f22c5')\"\n",
              "            title=\"Suggest charts\"\n",
              "            style=\"display:none;\">\n",
              "\n",
              "<svg xmlns=\"http://www.w3.org/2000/svg\" height=\"24px\"viewBox=\"0 0 24 24\"\n",
              "     width=\"24px\">\n",
              "    <g>\n",
              "        <path d=\"M19 3H5c-1.1 0-2 .9-2 2v14c0 1.1.9 2 2 2h14c1.1 0 2-.9 2-2V5c0-1.1-.9-2-2-2zM9 17H7v-7h2v7zm4 0h-2V7h2v10zm4 0h-2v-4h2v4z\"/>\n",
              "    </g>\n",
              "</svg>\n",
              "  </button>\n",
              "\n",
              "<style>\n",
              "  .colab-df-quickchart {\n",
              "      --bg-color: #E8F0FE;\n",
              "      --fill-color: #1967D2;\n",
              "      --hover-bg-color: #E2EBFA;\n",
              "      --hover-fill-color: #174EA6;\n",
              "      --disabled-fill-color: #AAA;\n",
              "      --disabled-bg-color: #DDD;\n",
              "  }\n",
              "\n",
              "  [theme=dark] .colab-df-quickchart {\n",
              "      --bg-color: #3B4455;\n",
              "      --fill-color: #D2E3FC;\n",
              "      --hover-bg-color: #434B5C;\n",
              "      --hover-fill-color: #FFFFFF;\n",
              "      --disabled-bg-color: #3B4455;\n",
              "      --disabled-fill-color: #666;\n",
              "  }\n",
              "\n",
              "  .colab-df-quickchart {\n",
              "    background-color: var(--bg-color);\n",
              "    border: none;\n",
              "    border-radius: 50%;\n",
              "    cursor: pointer;\n",
              "    display: none;\n",
              "    fill: var(--fill-color);\n",
              "    height: 32px;\n",
              "    padding: 0;\n",
              "    width: 32px;\n",
              "  }\n",
              "\n",
              "  .colab-df-quickchart:hover {\n",
              "    background-color: var(--hover-bg-color);\n",
              "    box-shadow: 0 1px 2px rgba(60, 64, 67, 0.3), 0 1px 3px 1px rgba(60, 64, 67, 0.15);\n",
              "    fill: var(--button-hover-fill-color);\n",
              "  }\n",
              "\n",
              "  .colab-df-quickchart-complete:disabled,\n",
              "  .colab-df-quickchart-complete:disabled:hover {\n",
              "    background-color: var(--disabled-bg-color);\n",
              "    fill: var(--disabled-fill-color);\n",
              "    box-shadow: none;\n",
              "  }\n",
              "\n",
              "  .colab-df-spinner {\n",
              "    border: 2px solid var(--fill-color);\n",
              "    border-color: transparent;\n",
              "    border-bottom-color: var(--fill-color);\n",
              "    animation:\n",
              "      spin 1s steps(1) infinite;\n",
              "  }\n",
              "\n",
              "  @keyframes spin {\n",
              "    0% {\n",
              "      border-color: transparent;\n",
              "      border-bottom-color: var(--fill-color);\n",
              "      border-left-color: var(--fill-color);\n",
              "    }\n",
              "    20% {\n",
              "      border-color: transparent;\n",
              "      border-left-color: var(--fill-color);\n",
              "      border-top-color: var(--fill-color);\n",
              "    }\n",
              "    30% {\n",
              "      border-color: transparent;\n",
              "      border-left-color: var(--fill-color);\n",
              "      border-top-color: var(--fill-color);\n",
              "      border-right-color: var(--fill-color);\n",
              "    }\n",
              "    40% {\n",
              "      border-color: transparent;\n",
              "      border-right-color: var(--fill-color);\n",
              "      border-top-color: var(--fill-color);\n",
              "    }\n",
              "    60% {\n",
              "      border-color: transparent;\n",
              "      border-right-color: var(--fill-color);\n",
              "    }\n",
              "    80% {\n",
              "      border-color: transparent;\n",
              "      border-right-color: var(--fill-color);\n",
              "      border-bottom-color: var(--fill-color);\n",
              "    }\n",
              "    90% {\n",
              "      border-color: transparent;\n",
              "      border-bottom-color: var(--fill-color);\n",
              "    }\n",
              "  }\n",
              "</style>\n",
              "\n",
              "  <script>\n",
              "    async function quickchart(key) {\n",
              "      const quickchartButtonEl =\n",
              "        document.querySelector('#' + key + ' button');\n",
              "      quickchartButtonEl.disabled = true;  // To prevent multiple clicks.\n",
              "      quickchartButtonEl.classList.add('colab-df-spinner');\n",
              "      try {\n",
              "        const charts = await google.colab.kernel.invokeFunction(\n",
              "            'suggestCharts', [key], {});\n",
              "      } catch (error) {\n",
              "        console.error('Error during call to suggestCharts:', error);\n",
              "      }\n",
              "      quickchartButtonEl.classList.remove('colab-df-spinner');\n",
              "      quickchartButtonEl.classList.add('colab-df-quickchart-complete');\n",
              "    }\n",
              "    (() => {\n",
              "      let quickchartButtonEl =\n",
              "        document.querySelector('#df-acacdb24-43b2-4c51-911f-cf5bf46f22c5 button');\n",
              "      quickchartButtonEl.style.display =\n",
              "        google.colab.kernel.accessAllowed ? 'block' : 'none';\n",
              "    })();\n",
              "  </script>\n",
              "</div>\n",
              "\n",
              "    </div>\n",
              "  </div>\n"
            ],
            "application/vnd.google.colaboratory.intrinsic+json": {
              "type": "dataframe",
              "variable_name": "df_train",
              "summary": "{\n  \"name\": \"df_train\",\n  \"rows\": 45026,\n  \"fields\": [\n    {\n      \"column\": \"tweet_id\",\n      \"properties\": {\n        \"dtype\": \"number\",\n        \"std\": 285540314446641408,\n        \"min\": 2282002909482,\n        \"max\": 999998266228012447,\n        \"num_unique_values\": 45026,\n        \"samples\": [\n          233043421684641142,\n          473604819267287593,\n          298647956580166328\n        ],\n        \"semantic_type\": \"\",\n        \"description\": \"\"\n      }\n    },\n    {\n      \"column\": \"sentiment\",\n      \"properties\": {\n        \"dtype\": \"category\",\n        \"num_unique_values\": 3,\n        \"samples\": [\n          \"positive\",\n          \"negative\",\n          \"neutral\"\n        ],\n        \"semantic_type\": \"\",\n        \"description\": \"\"\n      }\n    },\n    {\n      \"column\": \"text\",\n      \"properties\": {\n        \"dtype\": \"string\",\n        \"num_unique_values\": 45022,\n        \"samples\": [\n          \"today is Desperation Day. If you know what i mean.\",\n          \"Huckabee claims SCOTUS made new law on SSM. No. The equal protection clause of the 14th Amendment is more than a century old.\",\n          \"Chelsea Manning may face solitary confinement after caught with the Caitlyn Jenner Vanity Fair http://t.co/FMO6s9wC5v http://t.co/vQLbPu7JLe\"\n        ],\n        \"semantic_type\": \"\",\n        \"description\": \"\"\n      }\n    }\n  ]\n}"
            }
          },
          "metadata": {},
          "execution_count": 7
        }
      ]
    },
    {
      "cell_type": "code",
      "source": [
        "df_train[\"sentiment\"].value_counts().plot(kind=\"bar\", title=\"Sentiment Distribution\");\n"
      ],
      "metadata": {
        "colab": {
          "base_uri": "https://localhost:8080/",
          "height": 519
        },
        "id": "dhV-DVWpsLw4",
        "outputId": "0480d34f-096d-4775-f49d-bb3815a658bc"
      },
      "execution_count": null,
      "outputs": [
        {
          "output_type": "display_data",
          "data": {
            "text/plain": [
              "<Figure size 640x480 with 1 Axes>"
            ],
            "image/png": "[encoded data removed]"
          },
          "metadata": {}
        }
      ]
    },
    {
      "cell_type": "code",
      "source": [
        "print(\"Positive:\", df_train[df_train[\"sentiment\"] == \"positive\"].sample(1)[\"text\"].values[0])\n",
        "print(\"Negative:\", df_train[df_train[\"sentiment\"] == \"negative\"].sample(1)[\"text\"].values[0])\n",
        "print(\"Neutral:\", df_train[df_train[\"sentiment\"] == \"neutral\"].sample(1)[\"text\"].values[0])\n"
      ],
      "metadata": {
        "colab": {
          "base_uri": "https://localhost:8080/"
        },
        "id": "-DWPBHSBsPUj",
        "outputId": "677853f7-4f71-4bb4-ee82-50d04bac02a4"
      },
      "execution_count": null,
      "outputs": [
        {
          "output_type": "stream",
          "name": "stdout",
          "text": [
            "Positive: Interested in @BeatrixPotter &amp; #AlisonUttley? I'll be talking about both this Saturday in Chelsea. @_steph_allen_ https://t.co/etg9phExMV\n",
            "Negative: The problem with bad leaders (dictators ) is that they always have mentees who will continue where they stopped( Ch… https://t.co/fuPPW47VTs\n",
            "Neutral: @fuhkiee Hello Flora. This is Patti on behalf of Ira. May I confirm if you already received an e-mail from Globe?\n"
          ]
        }
      ]
    },
    {
      "cell_type": "markdown",
      "source": [
        "## Build Sentiment Classifiers"
      ],
      "metadata": {
        "id": "5cAXt_wokwIp"
      }
    },
    {
      "cell_type": "code",
      "source": [
        "from sklearn.feature_extraction.text import TfidfVectorizer\n",
        "from sklearn.svm import SVC\n",
        "from sklearn.metrics import f1_score\n",
        "\n",
        "# Convert text to TF-IDF features\n",
        "vectorizer = TfidfVectorizer(max_features=5000)\n",
        "X_train = vectorizer.fit_transform(df_train[\"text\"])\n",
        "X_dev = vectorizer.transform(df_dev[\"text\"])\n",
        "\n",
        "# Train SVM\n",
        "svm = SVC(kernel=\"linear\")\n",
        "svm.fit(X_train, df_train[\"sentiment\"])\n",
        "svm_preds = svm.predict(X_dev)\n",
        "\n",
        "# Evaluate SVM\n",
        "print(\"SVM F1 Score:\", f1_score(df_dev[\"sentiment\"], svm_preds, average=\"macro\"))\n"
      ],
      "metadata": {
        "colab": {
          "base_uri": "https://localhost:8080/"
        },
        "id": "pu2RRqpDkxva",
        "outputId": "d3b499d2-eac3-498e-a71f-9dfe44e3767d"
      },
      "execution_count": null,
      "outputs": [
        {
          "output_type": "stream",
          "name": "stdout",
          "text": [
            "SVM F1 Score: 0.6307681409654832\n"
          ]
        }
      ]
    },
    {
      "cell_type": "markdown",
      "source": [
        "## Evaluate & Compare Classifiers"
      ],
      "metadata": {
        "id": "6pem_LOMplKE"
      }
    },
    {
      "cell_type": "code",
      "source": [
        "from sklearn.metrics import classification_report\n",
        "\n",
        "print(classification_report(df_dev[\"sentiment\"], svm_preds))\n"
      ],
      "metadata": {
        "colab": {
          "base_uri": "https://localhost:8080/"
        },
        "id": "dXucuGfvpmvH",
        "outputId": "45480e2c-cbe9-41e6-88f8-1c5e12d69c3d"
      },
      "execution_count": null,
      "outputs": [
        {
          "output_type": "stream",
          "name": "stdout",
          "text": [
            "              precision    recall  f1-score   support\n",
            "\n",
            "    negative       0.64      0.44      0.53       378\n",
            "     neutral       0.62      0.78      0.69       919\n",
            "    positive       0.74      0.62      0.68       703\n",
            "\n",
            "    accuracy                           0.66      2000\n",
            "   macro avg       0.67      0.61      0.63      2000\n",
            "weighted avg       0.67      0.66      0.65      2000\n",
            "\n"
          ]
        }
      ]
    },
    {
      "cell_type": "markdown",
      "metadata": {
        "id": "vV54OCCwoNUf"
      },
      "source": [
        "# Assignment Two:  Sentiment Classification\n",
        "\n",
        "For this exercise you will be using the \"SemEval 2017 task 4\" corpus provided on the module website, available through the following link: https://warwick.ac.uk/fac/sci/dcs/teaching/material/cs918/semeval-tweets.tar.bz2 You will focus particularly on Subtask A, i.e. classifying the overall sentiment of a tweet as positive, negative or neutral.\n",
        "\n",
        "You are requested to produce a Jupyter notebook for the coursework submission. The input to your program is the SemEval data downloaded. Note that TAs need to run your program on their own machine by using the original SemEval data. As such, don’t submit a Python program that takes as input some preprocessed files."
      ]
    },
    {
      "cell_type": "markdown",
      "metadata": {
        "id": "exHw_r3coNUm"
      },
      "source": [
        "#### Import necessary packages\n",
        "You may import more packages here."
      ]
    },
    {
      "cell_type": "code",
      "execution_count": null,
      "metadata": {
        "id": "fMwxn-sWoNUo"
      },
      "outputs": [],
      "source": [
        "# Import necessary packages\n",
        "import re\n",
        "from os.path import join\n",
        "import numpy as np"
      ]
    },
    {
      "cell_type": "code",
      "execution_count": null,
      "metadata": {
        "id": "4ZIwa-gQoNUs"
      },
      "outputs": [],
      "source": [
        "# Define test sets\n",
        "testsets = ['twitter-test1.txt', 'twitter-test2.txt', 'twitter-test3.txt']"
      ]
    },
    {
      "cell_type": "code",
      "execution_count": null,
      "metadata": {
        "id": "tWbDA74KoNUt"
      },
      "outputs": [],
      "source": [
        "# Skeleton: Evaluation code for the test sets\n",
        "def read_test(testset):\n",
        "    '''\n",
        "    readin the testset and return a dictionary\n",
        "    :param testset: str, the file name of the testset to compare\n",
        "    '''\n",
        "    id_gts = {}\n",
        "    with open(testset, 'r', encoding='utf8') as fh:\n",
        "        for line in fh:\n",
        "            fields = line.split('\\t')\n",
        "            tweetid = fields[0]\n",
        "            gt = fields[1]\n",
        "\n",
        "            id_gts[tweetid] = gt\n",
        "\n",
        "    return id_gts\n",
        "\n",
        "\n",
        "def confusion(id_preds, testset, classifier):\n",
        "    '''\n",
        "    print the confusion matrix of {'positive', 'netative'} between preds and testset\n",
        "    :param id_preds: a dictionary of predictions formated as {<tweetid>:<sentiment>, ... }\n",
        "    :param testset: str, the file name of the testset to compare\n",
        "    :classifier: str, the name of the classifier\n",
        "    '''\n",
        "    id_gts = read_test(testset)\n",
        "\n",
        "    gts = []\n",
        "    for m, c1 in id_gts.items():\n",
        "        if c1 not in gts:\n",
        "            gts.append(c1)\n",
        "\n",
        "    gts = ['positive', 'negative', 'neutral']\n",
        "\n",
        "    conf = {}\n",
        "    for c1 in gts:\n",
        "        conf[c1] = {}\n",
        "        for c2 in gts:\n",
        "            conf[c1][c2] = 0\n",
        "\n",
        "    for tweetid, gt in id_gts.items():\n",
        "        if tweetid in id_preds:\n",
        "            pred = id_preds[tweetid]\n",
        "        else:\n",
        "            pred = 'neutral'\n",
        "        conf[pred][gt] += 1\n",
        "\n",
        "    print(''.ljust(12) + '  '.join(gts))\n",
        "\n",
        "    for c1 in gts:\n",
        "        print(c1.ljust(12), end='')\n",
        "        for c2 in gts:\n",
        "            if sum(conf[c1].values()) > 0:\n",
        "                print('%.3f     ' % (conf[c1][c2] / float(sum(conf[c1].values()))), end='')\n",
        "            else:\n",
        "                print('0.000     ', end='')\n",
        "        print('')\n",
        "\n",
        "    print('')\n",
        "\n",
        "\n",
        "def evaluate(id_preds, testset, classifier):\n",
        "    '''\n",
        "    print the macro-F1 score of {'positive', 'netative'} between preds and testset\n",
        "    :param id_preds: a dictionary of predictions formated as {<tweetid>:<sentiment>, ... }\n",
        "    :param testset: str, the file name of the testset to compare\n",
        "    :classifier: str, the name of the classifier\n",
        "    '''\n",
        "    id_gts = read_test(testset)\n",
        "\n",
        "    acc_by_class = {}\n",
        "    for gt in ['positive', 'negative', 'neutral']:\n",
        "        acc_by_class[gt] = {'tp': 0, 'fp': 0, 'tn': 0, 'fn': 0}\n",
        "\n",
        "    catf1s = {}\n",
        "\n",
        "    ok = 0\n",
        "    for tweetid, gt in id_gts.items():\n",
        "        if tweetid in id_preds:\n",
        "            pred = id_preds[tweetid]\n",
        "        else:\n",
        "            pred = 'neutral'\n",
        "\n",
        "        if gt == pred:\n",
        "            ok += 1\n",
        "            acc_by_class[gt]['tp'] += 1\n",
        "        else:\n",
        "            acc_by_class[gt]['fn'] += 1\n",
        "            acc_by_class[pred]['fp'] += 1\n",
        "\n",
        "    catcount = 0\n",
        "    itemcount = 0\n",
        "    macro = {'p': 0, 'r': 0, 'f1': 0}\n",
        "    micro = {'p': 0, 'r': 0, 'f1': 0}\n",
        "    semevalmacro = {'p': 0, 'r': 0, 'f1': 0}\n",
        "\n",
        "    microtp = 0\n",
        "    microfp = 0\n",
        "    microtn = 0\n",
        "    microfn = 0\n",
        "    for cat, acc in acc_by_class.items():\n",
        "        catcount += 1\n",
        "\n",
        "        microtp += acc['tp']\n",
        "        microfp += acc['fp']\n",
        "        microtn += acc['tn']\n",
        "        microfn += acc['fn']\n",
        "\n",
        "        p = 0\n",
        "        if (acc['tp'] + acc['fp']) > 0:\n",
        "            p = float(acc['tp']) / (acc['tp'] + acc['fp'])\n",
        "\n",
        "        r = 0\n",
        "        if (acc['tp'] + acc['fn']) > 0:\n",
        "            r = float(acc['tp']) / (acc['tp'] + acc['fn'])\n",
        "\n",
        "        f1 = 0\n",
        "        if (p + r) > 0:\n",
        "            f1 = 2 * p * r / (p + r)\n",
        "\n",
        "        catf1s[cat] = f1\n",
        "\n",
        "        n = acc['tp'] + acc['fn']\n",
        "\n",
        "        macro['p'] += p\n",
        "        macro['r'] += r\n",
        "        macro['f1'] += f1\n",
        "\n",
        "        if cat in ['positive', 'negative']:\n",
        "            semevalmacro['p'] += p\n",
        "            semevalmacro['r'] += r\n",
        "            semevalmacro['f1'] += f1\n",
        "\n",
        "        itemcount += n\n",
        "\n",
        "    micro['p'] = float(microtp) / float(microtp + microfp)\n",
        "    micro['r'] = float(microtp) / float(microtp + microfn)\n",
        "    micro['f1'] = 2 * float(micro['p']) * micro['r'] / float(micro['p'] + micro['r'])\n",
        "\n",
        "    semevalmacrof1 = semevalmacro['f1'] / 2\n",
        "\n",
        "    print(testset + ' (' + classifier + '): %.3f' % semevalmacrof1)"
      ]
    },
    {
      "cell_type": "markdown",
      "metadata": {
        "id": "offILir3oNUw"
      },
      "source": [
        "#### Load training set, dev set and testing set\n",
        "Here, you need to load the training set, the development set and the test set. For better classification results, you may need to preprocess tweets before sending them to the classifiers."
      ]
    },
    {
      "cell_type": "code",
      "execution_count": null,
      "metadata": {
        "id": "8pLfHInkoNUx"
      },
      "outputs": [],
      "source": [
        "# Load training set, dev set and testing set\n",
        "data = {}\n",
        "tweetids = {}\n",
        "tweetgts = {}\n",
        "tweets = {}\n",
        "\n",
        "for dataset in ['twitter-training-data.txt'] + testsets:\n",
        "    data[dataset] = []\n",
        "    tweets[dataset] = []\n",
        "    tweetids[dataset] = []\n",
        "    tweetgts[dataset] = []\n",
        "\n",
        "    # write code to read in the datasets here"
      ]
    },
    {
      "cell_type": "markdown",
      "metadata": {
        "id": "BL9ziVOVoNUz"
      },
      "source": [
        "#### Build sentiment classifiers\n",
        "You need to create your own classifiers (at least 3 classifiers). For each classifier, you can choose between the bag-of-word features and the word-embedding-based features. Each classifier has to be evaluated over 3 test sets. Make sure your classifier produce consistent performance across the test sets. Marking will be based on the performance over all 5 test sets (2 of them are not provided to you)."
      ]
    },
    {
      "cell_type": "code",
      "execution_count": null,
      "metadata": {
        "colab": {
          "base_uri": "https://localhost:8080/"
        },
        "id": "jcIfSILvoNUz",
        "outputId": "42cd15b7-bc2a-4f1f-98e8-7f7c8d81546f"
      },
      "outputs": [
        {
          "output_type": "stream",
          "name": "stdout",
          "text": [
            "Training svm\n",
            "/content/semeval_tweets/semeval-tweets/twitter-test1.txt (bow-svm): 0.000\n",
            "/content/semeval_tweets/semeval-tweets/twitter-test2.txt (bow-svm): 0.000\n",
            "/content/semeval_tweets/semeval-tweets/twitter-test3.txt (bow-svm): 0.000\n",
            "Training svm\n",
            "/content/semeval_tweets/semeval-tweets/twitter-test1.txt (<feature-2-name>-svm): 0.000\n",
            "/content/semeval_tweets/semeval-tweets/twitter-test2.txt (<feature-2-name>-svm): 0.000\n",
            "/content/semeval_tweets/semeval-tweets/twitter-test3.txt (<feature-2-name>-svm): 0.000\n",
            "Training <classifier-2-name>\n",
            "/content/semeval_tweets/semeval-tweets/twitter-test1.txt (bow-<classifier-2-name>): 0.000\n",
            "/content/semeval_tweets/semeval-tweets/twitter-test2.txt (bow-<classifier-2-name>): 0.000\n",
            "/content/semeval_tweets/semeval-tweets/twitter-test3.txt (bow-<classifier-2-name>): 0.000\n",
            "Training <classifier-2-name>\n",
            "/content/semeval_tweets/semeval-tweets/twitter-test1.txt (<feature-2-name>-<classifier-2-name>): 0.000\n",
            "/content/semeval_tweets/semeval-tweets/twitter-test2.txt (<feature-2-name>-<classifier-2-name>): 0.000\n",
            "/content/semeval_tweets/semeval-tweets/twitter-test3.txt (<feature-2-name>-<classifier-2-name>): 0.000\n",
            "Training <classifier-3-name>\n",
            "/content/semeval_tweets/semeval-tweets/twitter-test1.txt (bow-<classifier-3-name>): 0.000\n",
            "/content/semeval_tweets/semeval-tweets/twitter-test2.txt (bow-<classifier-3-name>): 0.000\n",
            "/content/semeval_tweets/semeval-tweets/twitter-test3.txt (bow-<classifier-3-name>): 0.000\n",
            "Training <classifier-3-name>\n",
            "/content/semeval_tweets/semeval-tweets/twitter-test1.txt (<feature-2-name>-<classifier-3-name>): 0.000\n",
            "/content/semeval_tweets/semeval-tweets/twitter-test2.txt (<feature-2-name>-<classifier-3-name>): 0.000\n",
            "/content/semeval_tweets/semeval-tweets/twitter-test3.txt (<feature-2-name>-<classifier-3-name>): 0.000\n"
          ]
        }
      ],
      "source": [
        "# Buid traditional sentiment classifiers. An example classifier name 'svm' is given\n",
        "# in the code below. You should replace the other two classifier names\n",
        "# with your own choices. For features used for classifier training,\n",
        "# the 'bow' feature is given in the code. But you could also explore the\n",
        "# use of other features.\n",
        "for classifier in ['svm', '<classifier-2-name>', '<classifier-3-name>']:\n",
        "    for features in ['bow', '<feature-2-name>']:\n",
        "        # Skeleton: Creation and training of the classifiers\n",
        "        if classifier == 'svm':\n",
        "            # write the svm classifier here\n",
        "            print('Training ' + classifier)\n",
        "        elif classifier == '<classifier-2-name>':\n",
        "            # write the classifier 2 here\n",
        "            print('Training ' + classifier)\n",
        "        elif classifier == '<classifier-3-name>':\n",
        "            # write the classifier 3 here\n",
        "            print('Training ' + classifier)\n",
        "        elif classifier == 'LSTM':\n",
        "            # write the LSTM classifier here\n",
        "            if features == 'bow':\n",
        "                continue\n",
        "            print('Training ' + classifier)\n",
        "        else:\n",
        "            print('Unknown classifier name' + classifier)\n",
        "            continue\n",
        "\n",
        "        # Predition performance of the classifiers\n",
        "        for testset in testsets:\n",
        "            id_preds = {}\n",
        "            # write the prediction and evaluation code here\n",
        "\n",
        "            testset_name = testset\n",
        "            testset_path = join('/content/semeval_tweets/semeval-tweets', testset_name)\n",
        "            evaluate(id_preds, testset_path, features + '-' + classifier)"
      ]
    }
  ],
  "metadata": {
    "kernelspec": {
      "display_name": "Python 3 (ipykernel)",
      "language": "python",
      "name": "python3"
    },
    "language_info": {
      "codemirror_mode": {
        "name": "ipython",
        "version": 3
      },
      "file_extension": ".py",
      "mimetype": "text/x-python",
      "name": "python",
      "nbconvert_exporter": "python",
      "pygments_lexer": "ipython3",
      "version": "3.9.6"
    },
    "colab": {
      "provenance": [],
      "include_colab_link": true
    }
  },
  "nbformat": 4,
  "nbformat_minor": 0
}